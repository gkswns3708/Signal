{
 "cells": [
  {
   "cell_type": "code",
   "execution_count": 1,
   "metadata": {},
   "outputs": [
    {
     "name": "stdout",
     "output_type": "stream",
     "text": [
      "dict_keys(['info', 'images', 'licenses', 'annotations'])\n",
      "82783\n",
      "{'license': 3, 'file_name': 'COCO_train2014_000000000009.jpg', 'coco_url': 'http://images.cocodataset.org/train2014/COCO_train2014_000000000009.jpg', 'height': 480, 'width': 640, 'date_captured': '2013-11-19 20:40:11', 'flickr_url': 'http://farm5.staticflickr.com/4026/4622125393_84c1fdb8d6_z.jpg', 'id': 9}\n",
      "{'image_id': 9, 'id': 661611, 'caption': 'Closeup of bins of food that include broccoli and bread.'}\n"
     ]
    }
   ],
   "source": [
    "import json\n",
    "import matplotlib\n",
    "from pprint import pprint\n",
    "\n",
    "\n",
    "with open('./annotations/annotations/captions_train2014.json') as f:\n",
    "    json_array = json.load(f)\n",
    "    print(json_array.keys())\n",
    "    print(len(json_array['images']))\n",
    "    print(sorted(json_array['images'], key=lambda x : x['id'])[0])\n",
    "    print(sorted(json_array['annotations'], key=lambda x : x['image_id'])[0])\n",
    "    "
   ]
  },
  {
   "cell_type": "code",
   "execution_count": 2,
   "metadata": {},
   "outputs": [
    {
     "name": "stderr",
     "output_type": "stream",
     "text": [
      "/opt/conda/lib/python3.9/site-packages/tqdm/auto.py:22: TqdmWarning: IProgress not found. Please update jupyter and ipywidgets. See https://ipywidgets.readthedocs.io/en/stable/user_install.html\n",
      "  from .autonotebook import tqdm as notebook_tqdm\n"
     ]
    }
   ],
   "source": [
    "import torch\n",
    "import torch.nn as nn\n",
    "\n",
    "from torch.utils.data import Dataset, DataLoader\n",
    "\n",
    "import os\n",
    "import math\n",
    "import json\n",
    "from PIL import Image\n",
    "from pathlib import Path\n",
    "from tqdm.auto import tqdm\n",
    "\n",
    "class ImageCaptionDataset(Dataset):\n",
    "    def __init__(self, annotations_path, processor, mode):\n",
    "        # annotations = dict_keys(['info', 'images', 'licenses', 'annotations'])\n",
    "        # self.mode = os.path.splitext(os.path.basename(annotations_path))[0].split('_')[-1]\n",
    "        self.mode = mode\n",
    "        self.json_array = json.load(open(annotations_path))\n",
    "        self.dataset = {\n",
    "            'image_paths' : [],\n",
    "            'captions' : []\n",
    "        }\n",
    "        # sort forr indexing\n",
    "        for image_json, annotation_json in zip(sorted(self.json_array['images'], key=lambda x : x['id']), sorted(self.json_array['annotations'], key=lambda x : x['image_id'])):\n",
    "            # image_paths = Path(f'{self.mode}/{self.mode}' + image_json['file_name'])\n",
    "            # captions = annotation_json['captions']\n",
    "            \n",
    "            # add image_paths, caption for indexing\n",
    "            self.dataset['image_paths'].append(Path(f'../{self.mode}/{self.mode}/' + image_json['file_name']))\n",
    "            self.dataset['captions'].append(annotation_json['caption']) \n",
    "        \n",
    "        # prepare processor for Natural Language Preprocessing\n",
    "        self.processor = processor\n",
    "\n",
    "        \n",
    "    def __len__(self):\n",
    "        return len(self.dataset['image_paths'])\n",
    "    \n",
    "    def __getitem__(self, idx):\n",
    "        image = Image.open(self.dataset['image_paths'][idx])\n",
    "        caption = self.dataset['captions'][idx]\n",
    "        # 사용할 processor가 batch 단위를 생각하고 encoding을 하기 때문에 squeeze()를 해야함.\n",
    "        encoding = self.processor(images=image, text=caption, padding=\"max_length\", return_tensors=\"pt\")\n",
    "\n",
    "        encoding = {k : v.squeeze() for k, v in encoding.items()}\n",
    "        return encoding"
   ]
  },
  {
   "cell_type": "code",
   "execution_count": 3,
   "metadata": {},
   "outputs": [],
   "source": [
    "from transformers import AutoProcessor, BlipForConditionalGeneration\n",
    "\n",
    "processor = AutoProcessor.from_pretrained(\"Salesforce/blip-image-captioning-base\")\n",
    "model = BlipForConditionalGeneration.from_pretrained(\"Salesforce/blip-image-captioning-base\")"
   ]
  },
  {
   "cell_type": "code",
   "execution_count": 4,
   "metadata": {},
   "outputs": [],
   "source": [
    "train_dataset = ImageCaptionDataset('../custom_dataset/custom_json.json', processor, 'custom_dataset')\n",
    "train_dataloader = DataLoader(train_dataset, shuffle=True, batch_size=2)"
   ]
  },
  {
   "cell_type": "code",
   "execution_count": 5,
   "metadata": {},
   "outputs": [],
   "source": [
    "device = \"cuda\" if torch.cuda.is_available() else \"CPU\"\n",
    "model.to(device)\n",
    "model.train()\n",
    "optimizer = torch.optim.AdamW(model.parameters(), lr=5e-5)"
   ]
  },
  {
   "cell_type": "code",
   "execution_count": 6,
   "metadata": {},
   "outputs": [
    {
     "name": "stdout",
     "output_type": "stream",
     "text": [
      "Epoch :  0\n"
     ]
    },
    {
     "name": "stderr",
     "output_type": "stream",
     "text": [
      "100%|██████████| 33/33 [00:15<00:00,  2.14it/s, loss=6.6] \n"
     ]
    },
    {
     "name": "stdout",
     "output_type": "stream",
     "text": [
      "Epoch :  1\n"
     ]
    },
    {
     "name": "stderr",
     "output_type": "stream",
     "text": [
      "100%|██████████| 33/33 [00:14<00:00,  2.21it/s, loss=2.44]\n"
     ]
    },
    {
     "name": "stdout",
     "output_type": "stream",
     "text": [
      "Epoch :  2\n"
     ]
    },
    {
     "name": "stderr",
     "output_type": "stream",
     "text": [
      "100%|██████████| 33/33 [00:14<00:00,  2.24it/s, loss=1.42]\n"
     ]
    },
    {
     "name": "stdout",
     "output_type": "stream",
     "text": [
      "Epoch :  3\n"
     ]
    },
    {
     "name": "stderr",
     "output_type": "stream",
     "text": [
      "100%|██████████| 33/33 [00:14<00:00,  2.22it/s, loss=1.39]\n"
     ]
    },
    {
     "name": "stdout",
     "output_type": "stream",
     "text": [
      "Epoch :  4\n"
     ]
    },
    {
     "name": "stderr",
     "output_type": "stream",
     "text": [
      "100%|██████████| 33/33 [00:15<00:00,  2.20it/s, loss=1.38]\n"
     ]
    }
   ],
   "source": [
    "min_total_loss = math.inf\n",
    "for epoch in range(5):\n",
    "    print(\"Epoch : \", epoch)\n",
    "    total_loss = 0\n",
    "    with tqdm(total=len(train_dataloader)) as pbar:\n",
    "        for idx, batch in enumerate(train_dataloader):\n",
    "            input_ids = batch.pop(\"input_ids\").to(device)\n",
    "            pixel_values = batch.pop(\"pixel_values\").to(device)\n",
    "            \n",
    "            with torch.autocast(device_type=device, dtype=torch.bfloat16):\n",
    "                outputs = model(input_ids=input_ids,\n",
    "                                pixel_values = pixel_values,\n",
    "                                labels=input_ids)\n",
    "            \n",
    "            loss = outputs.loss\n",
    "            \n",
    "            pbar.set_postfix(loss = loss.item())\n",
    "            pbar.update(1)\n",
    "            total_loss += loss.item()    \n",
    "            loss.backward()\n",
    "            \n",
    "            optimizer.step()\n",
    "            optimizer.zero_grad()\n",
    "    if min_total_loss > total_loss:\n",
    "        torch.save(model.state_dict(), f\"BLIP_trainin_ver-{epoch}-{total_loss:.2f}.pt\")"
   ]
  },
  {
   "cell_type": "code",
   "execution_count": null,
   "metadata": {},
   "outputs": [],
   "source": []
  }
 ],
 "metadata": {
  "kernelspec": {
   "display_name": "base",
   "language": "python",
   "name": "python3"
  },
  "language_info": {
   "codemirror_mode": {
    "name": "ipython",
    "version": 3
   },
   "file_extension": ".py",
   "mimetype": "text/x-python",
   "name": "python",
   "nbconvert_exporter": "python",
   "pygments_lexer": "ipython3",
   "version": "3.9.12"
  },
  "orig_nbformat": 4
 },
 "nbformat": 4,
 "nbformat_minor": 2
}
